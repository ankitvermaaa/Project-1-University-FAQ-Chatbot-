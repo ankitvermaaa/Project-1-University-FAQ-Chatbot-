{
  "nbformat": 4,
  "nbformat_minor": 0,
  "metadata": {
    "colab": {
      "provenance": [],
      "authorship_tag": "ABX9TyPJtv04H8Y/SaGrkKBaeAW0",
      "include_colab_link": true
    },
    "kernelspec": {
      "name": "python3",
      "display_name": "Python 3"
    },
    "language_info": {
      "name": "python"
    }
  },
  "cells": [
    {
      "cell_type": "markdown",
      "metadata": {
        "id": "view-in-github",
        "colab_type": "text"
      },
      "source": [
        "<a href=\"https://colab.research.google.com/github/ankitvermaaa/Project-1-University-FAQ-Chatbot-/blob/main/Project_1_University_FAQ_Chatbot.ipynb\" target=\"_parent\"><img src=\"https://colab.research.google.com/assets/colab-badge.svg\" alt=\"Open In Colab\"/></a>"
      ]
    },
    {
      "cell_type": "code",
      "execution_count": 2,
      "metadata": {
        "colab": {
          "base_uri": "https://localhost:8080/"
        },
        "id": "rzmmrt8ghrp0",
        "outputId": "626efc66-1807-4d54-af86-d3b7b8a22533"
      },
      "outputs": [
        {
          "output_type": "stream",
          "name": "stdout",
          "text": [
            "Requirement already satisfied: nltk in /usr/local/lib/python3.12/dist-packages (3.9.1)\n",
            "Requirement already satisfied: scikit-learn in /usr/local/lib/python3.12/dist-packages (1.6.1)\n",
            "Requirement already satisfied: click in /usr/local/lib/python3.12/dist-packages (from nltk) (8.3.0)\n",
            "Requirement already satisfied: joblib in /usr/local/lib/python3.12/dist-packages (from nltk) (1.5.2)\n",
            "Requirement already satisfied: regex>=2021.8.3 in /usr/local/lib/python3.12/dist-packages (from nltk) (2024.11.6)\n",
            "Requirement already satisfied: tqdm in /usr/local/lib/python3.12/dist-packages (from nltk) (4.67.1)\n",
            "Requirement already satisfied: numpy>=1.19.5 in /usr/local/lib/python3.12/dist-packages (from scikit-learn) (2.0.2)\n",
            "Requirement already satisfied: scipy>=1.6.0 in /usr/local/lib/python3.12/dist-packages (from scikit-learn) (1.16.2)\n",
            "Requirement already satisfied: threadpoolctl>=3.1.0 in /usr/local/lib/python3.12/dist-packages (from scikit-learn) (3.6.0)\n"
          ]
        }
      ],
      "source": [
        "!pip install nltk scikit-learn"
      ]
    },
    {
      "cell_type": "code",
      "source": [
        "import nltk\n",
        "import pandas as pd\n",
        "from sklearn.feature_extraction.text import TfidfVectorizer\n",
        "from sklearn.metrics.pairwise import cosine_similarity\n",
        "from nltk.corpus import stopwords\n",
        "from nltk.stem import WordNetLemmatizer\n",
        "import string"
      ],
      "metadata": {
        "id": "nfVecRB3lAko"
      },
      "execution_count": null,
      "outputs": []
    },
    {
      "cell_type": "code",
      "source": [
        "nltk.download('punkt')\n",
        "nltk.download('stopwords')\n",
        "nltk.download('wordnet')\n",
        "nltk.download('omw-1.4')        # for WordNet lemmatizer\n",
        "nltk.download('punkt_tab')      # new tokenizer data needed in Colab"
      ],
      "metadata": {
        "id": "gPC5FQXHlIAG"
      },
      "execution_count": null,
      "outputs": []
    },
    {
      "cell_type": "code",
      "source": [
        "data = {\n",
        "    \"Question\": [\n",
        "        \"How much is the admission fee?\",\n",
        "        \"How can I apply for a hostel?\",\n",
        "        \"When will exams start?\",\n",
        "        \"What is the annual tuition fee?\",\n",
        "        \"Where can I find my timetable?\",\n",
        "        \"How to contact the administration office?\"\n",
        "    ],\n",
        "    \"Answer\": [\n",
        "        \"Admission fee is ₹50000.\",\n",
        "        \"Fill the hostel form online at hostel.university.edu.\",\n",
        "        \"Exams will begin in December as per the academic calendar.\",\n",
        "        \"Annual tuition fee is ₹95,000.\",\n",
        "        \"You can check your timetable on the university portal under 'Academics'.\",\n",
        "        \"You can contact the admin office at admin@university.edu.\"\n",
        "    ]\n",
        "}\n",
        "\n",
        "df = pd.DataFrame(data)"
      ],
      "metadata": {
        "id": "UfQLDj4plK58"
      },
      "execution_count": 3,
      "outputs": []
    },
    {
      "cell_type": "code",
      "source": [
        "lemmatizer = WordNetLemmatizer()\n",
        "stop_words = set(stopwords.words('english'))\n",
        "\n",
        "def preprocess(text):\n",
        "    text = text.lower()  # lowercase all text\n",
        "    tokens = nltk.word_tokenize(text)  # split into words\n",
        "    tokens = [t for t in tokens if t not in string.punctuation]  # remove punctuation\n",
        "    tokens = [lemmatizer.lemmatize(t) for t in tokens if t not in stop_words]  # lemmatize & remove stopwords\n",
        "    return \" \".join(tokens)"
      ],
      "metadata": {
        "id": "atZM35v0lnUz"
      },
      "execution_count": 4,
      "outputs": []
    },
    {
      "cell_type": "code",
      "source": [
        "df['Processed_Question'] = df['Question'].apply(preprocess)\n",
        "\n",
        "vectorizer = TfidfVectorizer()\n",
        "X = vectorizer.fit_transform(df['Processed_Question'])\n"
      ],
      "metadata": {
        "id": "DW74djeJlqp4"
      },
      "execution_count": 5,
      "outputs": []
    },
    {
      "cell_type": "code",
      "source": [
        "def get_answer(query):\n",
        "    query_processed = preprocess(query)\n",
        "    query_vec = vectorizer.transform([query_processed])\n",
        "    similarity = cosine_similarity(query_vec, X)\n",
        "    idx = similarity.argmax()\n",
        "    return df.iloc[idx]['Answer']"
      ],
      "metadata": {
        "id": "TY4LIcQwluHE"
      },
      "execution_count": 6,
      "outputs": []
    },
    {
      "cell_type": "code",
      "source": [
        "print(\"🤖 University Chatbot (type 'exit' to quit)\")\n",
        "while True:\n",
        "    user_input = input(\"You: \")\n",
        "    if user_input.lower() in [\"exit\", \"quit\", \"bye\"]:\n",
        "        print(\"Chatbot: Goodbye 👋\")\n",
        "        break\n",
        "    print(\"Chatbot:\", get_answer(user_input))\n"
      ],
      "metadata": {
        "colab": {
          "base_uri": "https://localhost:8080/"
        },
        "id": "oMfBXtrjlu4i",
        "outputId": "6c65e3b7-6471-4252-e995-eb4117f2f00a"
      },
      "execution_count": 7,
      "outputs": [
        {
          "output_type": "stream",
          "name": "stdout",
          "text": [
            "🤖 University Chatbot (type 'exit' to quit)\n",
            "You: bye\n",
            "Chatbot: Goodbye 👋\n"
          ]
        }
      ]
    },
    {
      "cell_type": "code",
      "source": [],
      "metadata": {
        "id": "tFxiPy21lzY9"
      },
      "execution_count": null,
      "outputs": []
    }
  ]
}